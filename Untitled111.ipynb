{
 "cells": [
  {
   "cell_type": "code",
   "execution_count": 5,
   "id": "1cc1bcd1-a859-43d9-8772-7a2ebc60a019",
   "metadata": {},
   "outputs": [],
   "source": [
    "#Q1\n",
    "a= 'pwskills'\n",
    "b=[1,2,True,5+7j]\n",
    "c=12.34\n",
    "d=(1,2,4,6,'string')"
   ]
  },
  {
   "cell_type": "code",
   "execution_count": null,
   "id": "64399a6f-03c0-4123-b677-1294384ff5d3",
   "metadata": {},
   "outputs": [],
   "source": [
    "Q2\n",
    "a=string\n",
    "b=string\n",
    "c=lists\n",
    "d=integer"
   ]
  },
  {
   "cell_type": "code",
   "execution_count": 15,
   "id": "161f3cf4-d3b0-45de-b435-def58026665b",
   "metadata": {},
   "outputs": [
    {
     "name": "stdout",
     "output_type": "stream",
     "text": [
      "data_type <class 'int'>\n",
      "data_type <class 'int'>\n",
      "data_type <class 'int'>\n",
      "data_type <class 'float'>\n",
      "data_type <class 'bool'>\n",
      "data_type <class 'complex'>\n",
      "data_type <class 'str'>\n",
      "data_type <class 'str'>\n",
      "data_type <class 'int'>\n",
      "data_type <class 'int'>\n"
     ]
    }
   ],
   "source": [
    "Q4\n",
    "L=[1,2,34,345.56,True,5+7j,'abc','pwskills',24,67]\n",
    "i=0\n",
    "while(i<len(L)):\n",
    "    data_type=type(L[i])\n",
    "    i=i+1\n",
    "    print('data_type',data_type)\n",
    "    \n",
    "    "
   ]
  },
  {
   "cell_type": "code",
   "execution_count": 19,
   "id": "cc441bf0-5035-4a9d-8965-d4a5dbfc8b4f",
   "metadata": {},
   "outputs": [
    {
     "name": "stdin",
     "output_type": "stream",
     "text": [
      "enter the value  of A 9\n",
      "enter the value of B 9\n"
     ]
    },
    {
     "name": "stdout",
     "output_type": "stream",
     "text": [
      "A is purely divisible by B\n",
      "number of times A is divisble by B 1\n"
     ]
    }
   ],
   "source": [
    "#Q5\n",
    "A=int(input('enter the value  of A'))\n",
    "B=int(input('enter the value of B'))\n",
    "n=0\n",
    "if(A%B==0):\n",
    "    n=n+1\n",
    "    print('A is purely divisible by B"
   ]
  },
  {
   "cell_type": "code",
   "execution_count": 24,
   "id": "1e460039-d1a2-4353-b594-d0e3bc474cbb",
   "metadata": {},
   "outputs": [
    {
     "name": "stdout",
     "output_type": "stream",
     "text": [
      "it is not divisible by 3 1\n",
      "it is not divisible by 3 2\n",
      "it is divisible by 3 3\n",
      "it is not divisible by 3 4\n",
      "it is not divisible by 3 5\n",
      "it is divisible by 3 6\n",
      "it is not divisible by 3 7\n",
      "it is not divisible by 3 8\n",
      "it is divisible by 3 9\n",
      "it is divisible by 3 12\n",
      "it is not divisible by 3 1\n",
      "it is not divisible by 3 31\n",
      "it is not divisible by 3 41\n",
      "it is divisible by 3 516\n",
      "it is not divisible by 3 17\n",
      "it is divisible by 3 18\n",
      "it is divisible by 3 18\n",
      "it is not divisible by 3 19\n",
      "it is not divisible by 3 10\n",
      "it is not divisible by 3 34\n",
      "it is not divisible by 3 25\n",
      "it is not divisible by 3 56\n",
      "it is divisible by 3 78\n",
      "it is not divisible by 3 89\n",
      "it is not divisible by 3 17\n"
     ]
    }
   ],
   "source": [
    "#Q6\n",
    "L=[1,2,3,4,5,6,7,8,9,12,1,31,41,516,17,18,18,19,10,34,25,56,78,89,17]\n",
    "for i in range(0,len(L)):\n",
    "    if(L[i]%3==0):\n",
    "        print('it is divisible by 3',L[i])\n",
    "    else:\n",
    "        print('it is not divisible by 3',L[i])"
   ]
  },
  {
   "cell_type": "code",
   "execution_count": 29,
   "id": "2dd6bb94-5c8e-494c-9e7d-58ab22c73559",
   "metadata": {},
   "outputs": [
    {
     "name": "stdout",
     "output_type": "stream",
     "text": [
      "0.75 0 0 81 "
     ]
    }
   ],
   "source": [
    "#Q3\n",
    "a=3/4                                           #    / -it is used for division between two integer or floating datatype\n",
    "b=10%5                                             #  %- it is used to find remainder in a division\n",
    "c=4//9                                             # //- it is used for division but the outcome is only in integer datatype\n",
    "d=3**4                                             # **- it is used for raising power of some int or float datatype\n",
    "print(a,b,c,d,end=\" \")"
   ]
  },
  {
   "cell_type": "code",
   "execution_count": null,
   "id": "0f1d76ac-d028-402f-8dea-f153c928e0a9",
   "metadata": {},
   "outputs": [],
   "source": [
    "Q7\n",
    "mutable datatype are those datatype whose value can be changed multiple times at paticular index without assigning\n",
    "and adding new data type is also possible\n",
    "immutable datatype whose value cannot be changed without assignment and the value goes to garbage value once assignment is used "
   ]
  },
  {
   "cell_type": "code",
   "execution_count": 31,
   "id": "c03c31e7-7f32-445b-b1dd-ee1843521e8b",
   "metadata": {},
   "outputs": [],
   "source": [
    "L=[1,3,True]\n",
    "L[-1]=2    # this example of mutable datatype,lists are mutable\n",
    "\n"
   ]
  },
  {
   "cell_type": "code",
   "execution_count": 32,
   "id": "54477658-9baf-494a-b373-092864a71cb0",
   "metadata": {},
   "outputs": [
    {
     "data": {
      "text/plain": [
       "[1, 3, 2]"
      ]
     },
     "execution_count": 32,
     "metadata": {},
     "output_type": "execute_result"
    }
   ],
   "source": [
    "L\n"
   ]
  },
  {
   "cell_type": "code",
   "execution_count": null,
   "id": "46effbdb-3b3c-4c0f-9c18-937187916dbd",
   "metadata": {},
   "outputs": [],
   "source": [
    "t=(1,2,39)\n",
    "t[2]=3             # this is example of immutable datatype ,tuples are immutable\n"
   ]
  }
 ],
 "metadata": {
  "kernelspec": {
   "display_name": "Python 3 (ipykernel)",
   "language": "python",
   "name": "python3"
  },
  "language_info": {
   "codemirror_mode": {
    "name": "ipython",
    "version": 3
   },
   "file_extension": ".py",
   "mimetype": "text/x-python",
   "name": "python",
   "nbconvert_exporter": "python",
   "pygments_lexer": "ipython3",
   "version": "3.10.8"
  }
 },
 "nbformat": 4,
 "nbformat_minor": 5
}
